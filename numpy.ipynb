{
 "cells": [
  {
   "cell_type": "code",
   "execution_count": 2,
   "metadata": {},
   "outputs": [],
   "source": [
    "import numpy as np"
   ]
  },
  {
   "cell_type": "markdown",
   "metadata": {},
   "source": [
    "1 . Write a Python program to convert a list of numeric value into a one-dimensional\n",
    "NumPy array.\n"
   ]
  },
  {
   "cell_type": "code",
   "execution_count": 3,
   "metadata": {},
   "outputs": [
    {
     "name": "stdout",
     "output_type": "stream",
     "text": [
      "[1 2 3 4 5]\n"
     ]
    }
   ],
   "source": [
    "lst = [1,2,3,4,5]\n",
    "np_array = np.array(lst)\n",
    "print(np_array)"
   ]
  },
  {
   "cell_type": "markdown",
   "metadata": {},
   "source": [
    "2.Create a 3x3 matrix with values ranging from 2 to 10.\n"
   ]
  },
  {
   "cell_type": "code",
   "execution_count": 4,
   "metadata": {},
   "outputs": [
    {
     "name": "stdout",
     "output_type": "stream",
     "text": [
      "[[ 2  3  4]\n",
      " [ 5  6  7]\n",
      " [ 8  9 10]]\n"
     ]
    }
   ],
   "source": [
    "arr = np.arange(2,11)\n",
    "arr_2d = arr.reshape(3,3)\n",
    "print(arr_2d)"
   ]
  },
  {
   "cell_type": "markdown",
   "metadata": {},
   "source": [
    "3. Write a Python program to create a null vector of size 10 and update sixth value to 11."
   ]
  },
  {
   "cell_type": "code",
   "execution_count": 5,
   "metadata": {},
   "outputs": [
    {
     "name": "stdout",
     "output_type": "stream",
     "text": [
      "[0. 0. 0. 0. 0. 0. 0. 0. 0. 0. 0.]\n",
      "[ 0.  0.  0.  0.  0. 11.  0.  0.  0.  0.  0.]\n"
     ]
    }
   ],
   "source": [
    "arr = np.zeros(11)\n",
    "print(arr)\n",
    "arr[5] = 11\n",
    "print(arr)"
   ]
  },
  {
   "cell_type": "markdown",
   "metadata": {},
   "source": [
    "4. Write a Python program to reverse an array (first element becomes last)"
   ]
  },
  {
   "cell_type": "code",
   "execution_count": 6,
   "metadata": {},
   "outputs": [
    {
     "name": "stdout",
     "output_type": "stream",
     "text": [
      "[1 2 3 4 5]\n",
      "[5 4 3 2 1]\n"
     ]
    }
   ],
   "source": [
    "arr = np.array([1,2,3,4,5])\n",
    "print(arr)\n",
    "rev_arr = arr[::-1]\n",
    "print(rev_arr)"
   ]
  },
  {
   "cell_type": "markdown",
   "metadata": {},
   "source": [
    "5. Write a Python program to create a 2d array with 1 on the border and 0 inside.\n"
   ]
  },
  {
   "cell_type": "code",
   "execution_count": 7,
   "metadata": {},
   "outputs": [
    {
     "name": "stdout",
     "output_type": "stream",
     "text": [
      "[[1. 1. 1. 1. 1.]\n",
      " [1. 1. 1. 1. 1.]\n",
      " [1. 1. 1. 1. 1.]\n",
      " [1. 1. 1. 1. 1.]\n",
      " [1. 1. 1. 1. 1.]]\n",
      "\n",
      " [[1. 1. 1. 1. 1.]\n",
      " [1. 0. 0. 0. 1.]\n",
      " [1. 0. 0. 0. 1.]\n",
      " [1. 0. 0. 0. 1.]\n",
      " [1. 1. 1. 1. 1.]]\n"
     ]
    }
   ],
   "source": [
    "arr_2d = np.ones((5,5))\n",
    "print(arr_2d)\n",
    "arr_2d[1:-1, 1:-1] = 0\n",
    "print('\\n',arr_2d)"
   ]
  },
  {
   "cell_type": "markdown",
   "metadata": {},
   "source": [
    "6. Write a Python program to add a border (filled with 0's) around an existing array."
   ]
  },
  {
   "cell_type": "code",
   "execution_count": 8,
   "metadata": {},
   "outputs": [
    {
     "name": "stdout",
     "output_type": "stream",
     "text": [
      "[[1. 1. 1.]\n",
      " [1. 1. 1.]\n",
      " [1. 1. 1.]]\n",
      "\n",
      " [[0. 0. 0. 0. 0.]\n",
      " [0. 1. 1. 1. 0.]\n",
      " [0. 1. 1. 1. 0.]\n",
      " [0. 1. 1. 1. 0.]\n",
      " [0. 0. 0. 0. 0.]]\n"
     ]
    }
   ],
   "source": [
    "arr = np.ones((3,3))\n",
    "print(arr)\n",
    "border = np.zeros((5,5))\n",
    "border[1:-1,1:-1] = arr\n",
    "print('\\n',border)\n"
   ]
  },
  {
   "cell_type": "markdown",
   "metadata": {},
   "source": [
    "7. Write a Python program to create a 8x8 matrix and fill it with a checkerboard pattern."
   ]
  },
  {
   "cell_type": "code",
   "execution_count": 9,
   "metadata": {},
   "outputs": [
    {
     "name": "stdout",
     "output_type": "stream",
     "text": [
      "[[0. 1. 0. 1. 0. 1. 0. 1.]\n",
      " [1. 0. 1. 0. 1. 0. 1. 0.]\n",
      " [0. 1. 0. 1. 0. 1. 0. 1.]\n",
      " [1. 0. 1. 0. 1. 0. 1. 0.]\n",
      " [0. 1. 0. 1. 0. 1. 0. 1.]\n",
      " [1. 0. 1. 0. 1. 0. 1. 0.]\n",
      " [0. 1. 0. 1. 0. 1. 0. 1.]\n",
      " [1. 0. 1. 0. 1. 0. 1. 0.]]\n"
     ]
    }
   ],
   "source": [
    "arr = np.zeros((8,8))\n",
    "arr[1::2,::2] = 1\n",
    "arr[::2,1::2] = 1\n",
    "print(arr)"
   ]
  },
  {
   "cell_type": "markdown",
   "metadata": {},
   "source": [
    "8. Write a Python program to convert a list and tuple into arrays.\n",
    "List to array:\n",
    "[1 2 3 4 5 6 7 8]\n",
    "Tuple to array:\n",
    "[[8 4 6]\n",
    "[1 2 3]]"
   ]
  },
  {
   "cell_type": "code",
   "execution_count": 10,
   "metadata": {},
   "outputs": [
    {
     "name": "stdout",
     "output_type": "stream",
     "text": [
      "[1 2 3 4 5 6 7 8]\n",
      "[[8 4 6]\n",
      " [1 2 3]]\n"
     ]
    }
   ],
   "source": [
    "lst = [1,2,3,4,5,6,7,8]\n",
    "arr_lst = np.array(lst)\n",
    "print(arr_lst)\n",
    "tup = ((8,4,6),(1,2,3))\n",
    "arr_tup = np.array(tup)\n",
    "print(arr_tup)"
   ]
  },
  {
   "cell_type": "markdown",
   "metadata": {},
   "source": [
    "9.  Write a Python program to append values to the end of an array."
   ]
  },
  {
   "cell_type": "code",
   "execution_count": 11,
   "metadata": {},
   "outputs": [
    {
     "name": "stdout",
     "output_type": "stream",
     "text": [
      "[10 20 30]\n",
      "[10 20 30 40 50 60 70 80 90]\n"
     ]
    }
   ],
   "source": [
    "arr = np.array([10,20,30])\n",
    "print(arr)\n",
    "arr = np.append(arr,[40,50,60,70,80,90])\n",
    "print(arr)"
   ]
  },
  {
   "cell_type": "markdown",
   "metadata": {},
   "source": [
    "10. Write a Python program to find the real and imaginary parts of an array of complex\n",
    "numbers."
   ]
  },
  {
   "cell_type": "code",
   "execution_count": 12,
   "metadata": {},
   "outputs": [
    {
     "name": "stdout",
     "output_type": "stream",
     "text": [
      "Real part of array :[1.         0.70710678]\n",
      "Imaginary part of array:[0.         0.70710678]\n"
     ]
    }
   ],
   "source": [
    "arr = np.array([1.00000000+0.j,0.70710678+0.70710678j])\n",
    "real_arr = np.real(arr)\n",
    "imag_arr = np.imag(arr)\n",
    "print(f'Real part of array :{real_arr}\\nImaginary part of array:{imag_arr}')"
   ]
  },
  {
   "cell_type": "markdown",
   "metadata": {},
   "source": [
    "11. Write a Python program to find the number of elements of an array, length of one\n",
    "array element in bytes and total bytes consumed by the element"
   ]
  },
  {
   "cell_type": "code",
   "execution_count": 13,
   "metadata": {},
   "outputs": [
    {
     "name": "stdout",
     "output_type": "stream",
     "text": [
      "Number of elements in array3, length of one array element in bytes is 8 and total bytes consumed by the element is 24\n"
     ]
    }
   ],
   "source": [
    "arr = np.array([1,2,3])\n",
    "print(f'Number of elements in array{arr.size}, length of one array element in bytes is {arr.itemsize} and total bytes consumed by the element is {arr.nbytes}')"
   ]
  },
  {
   "cell_type": "markdown",
   "metadata": {},
   "source": [
    "12. Write a Python program to find common values between two arrays"
   ]
  },
  {
   "cell_type": "code",
   "execution_count": 14,
   "metadata": {},
   "outputs": [
    {
     "name": "stdout",
     "output_type": "stream",
     "text": [
      "[5]\n"
     ]
    }
   ],
   "source": [
    "arr1 = np.array([1,2,3,4,5])\n",
    "arr2 = np.array([5,6,7,8])\n",
    "common = np.intersect1d(arr1,arr2)\n",
    "print(common)"
   ]
  },
  {
   "cell_type": "markdown",
   "metadata": {},
   "source": [
    "13. Write a Python program to find the set difference of two arrays. The set difference\n",
    "will return the sorted, unique values in array1 that are not in array2."
   ]
  },
  {
   "cell_type": "code",
   "execution_count": 15,
   "metadata": {},
   "outputs": [
    {
     "name": "stdout",
     "output_type": "stream",
     "text": [
      "[ 0 20 60 80]\n"
     ]
    }
   ],
   "source": [
    "arr1 = np.array([0, 10, 20, 40, 60, 80])\n",
    "arr2 = np.array([10, 30, 40, 50, 70, 90])\n",
    "set_diff = np.setdiff1d(arr1,arr2)\n",
    "print(set_diff)"
   ]
  },
  {
   "cell_type": "markdown",
   "metadata": {},
   "source": [
    "14. Write a Python program to find the set exclusive-or of two arrays. Set exclusive-or\n",
    "will return the sorted, unique values that are in only one (not both) of the input arrays."
   ]
  },
  {
   "cell_type": "code",
   "execution_count": 16,
   "metadata": {},
   "outputs": [
    {
     "name": "stdout",
     "output_type": "stream",
     "text": [
      "[ 0 20 30 50 60 70 80]\n"
     ]
    }
   ],
   "source": [
    "arr1 = np.array([0, 10, 20, 40, 60, 80])\n",
    "arr2 = np.array([10, 30, 40, 50, 70])\n",
    "set_excl = np.setxor1d(arr1,arr2)\n",
    "print(set_excl)"
   ]
  },
  {
   "cell_type": "markdown",
   "metadata": {},
   "source": [
    "15. Write a Python program compare two arrays using numpy.\n"
   ]
  },
  {
   "cell_type": "code",
   "execution_count": 17,
   "metadata": {},
   "outputs": [
    {
     "name": "stdout",
     "output_type": "stream",
     "text": [
      "a > b\n",
      "[False False]\n",
      "a >= b\n",
      "[False False]\n",
      "a < b\n",
      "[ True  True]\n",
      "a <= b\n",
      "[ True  True]\n"
     ]
    }
   ],
   "source": [
    "a = np.array([1,2])\n",
    "b = np.array([4,5])\n",
    "\n",
    "print(\"a > b\")\n",
    "print(np.greater(a, b))\n",
    " \n",
    "print(\"a >= b\")\n",
    "print(np.greater_equal(a, b))\n",
    " \n",
    "print(\"a < b\")\n",
    "print(np.less(a, b))\n",
    " \n",
    "print(\"a <= b\")\n",
    "print(np.less_equal(a, b))"
   ]
  },
  {
   "cell_type": "markdown",
   "metadata": {},
   "source": [
    "15. Save numpy array to text file."
   ]
  },
  {
   "cell_type": "code",
   "execution_count": 18,
   "metadata": {},
   "outputs": [],
   "source": [
    "arr = np.zeros((3,3))\n",
    "path = 'D:/numpy.txt'\n",
    "np.savetxt(path,arr,delimiter=',',fmt = '%.2f')"
   ]
  },
  {
   "cell_type": "markdown",
   "metadata": {},
   "source": [
    "16. Write a Python program to create a contiguous flattened array\n",
    "Original array:\n",
    "[[10 20 30]\n",
    "[20 40 50]]\n",
    "New flattened array:\n",
    "[10 20 30 20 40 50]\n"
   ]
  },
  {
   "cell_type": "code",
   "execution_count": 19,
   "metadata": {},
   "outputs": [
    {
     "name": "stdout",
     "output_type": "stream",
     "text": [
      "[[10 20 30]\n",
      " [20 40 50]]\n",
      "[10 20 30 20 40 50]\n"
     ]
    }
   ],
   "source": [
    "arr = np.array([[10,20,30],[20,40,50]])\n",
    "print(arr)\n",
    "arr = np.ravel(arr)\n",
    "print(arr)"
   ]
  },
  {
   "cell_type": "markdown",
   "metadata": {},
   "source": [
    "17. Write a Python program to change the data type of an array.\n"
   ]
  },
  {
   "cell_type": "code",
   "execution_count": 20,
   "metadata": {},
   "outputs": [
    {
     "name": "stdout",
     "output_type": "stream",
     "text": [
      "[[ 2  4  6]\n",
      " [ 6  8 10]]\n",
      "Data type of the array is int32\n",
      "New Type: float64\n",
      "[[ 2.  4.  6.]\n",
      " [ 6.  8. 10.]]\n"
     ]
    }
   ],
   "source": [
    "arr = np.array([[2,4,6],[6,8,10]], dtype = np.int32)\n",
    "print(arr)\n",
    "print(f'Data type of the array is {arr.dtype}')\n",
    "arr_new = arr.astype(np.float64)\n",
    "print(f\"New Type: {arr_new.dtype}\")\n",
    "print(arr_new)"
   ]
  },
  {
   "cell_type": "markdown",
   "metadata": {},
   "source": [
    "18. Write a Python program to create a 3-D array with ones on a diagonal and zeros\n",
    "elsewhere."
   ]
  },
  {
   "cell_type": "code",
   "execution_count": 21,
   "metadata": {},
   "outputs": [
    {
     "name": "stdout",
     "output_type": "stream",
     "text": [
      "[[0. 0. 0.]\n",
      " [0. 0. 0.]\n",
      " [0. 0. 0.]]\n",
      "[[1. 0. 0.]\n",
      " [0. 1. 0.]\n",
      " [0. 0. 1.]]\n"
     ]
    }
   ],
   "source": [
    "arr = np.zeros((3,3))\n",
    "print(arr)\n",
    "for i in range(len(arr)):   \n",
    " arr[i,i] =1\n",
    "print(arr)"
   ]
  },
  {
   "cell_type": "markdown",
   "metadata": {},
   "source": [
    "19. Write a Python program to create an array which looks like below array\n",
    "Expected Output:\n",
    "[[ 0. 0. 0.]\n",
    "[ 1. 0. 0.]\n",
    "[ 1. 1. 0.]\n",
    "[ 1. 1. 1.]]"
   ]
  },
  {
   "cell_type": "code",
   "execution_count": 22,
   "metadata": {},
   "outputs": [
    {
     "name": "stdout",
     "output_type": "stream",
     "text": [
      "[[0. 0. 0.]\n",
      " [1. 0. 0.]\n",
      " [1. 1. 0.]\n",
      " [1. 1. 1.]]\n"
     ]
    }
   ],
   "source": [
    "arr = np.zeros((4,3))\n",
    "for i in range(1,len(arr)):\n",
    "    arr[i,:i]=1\n",
    "print(arr)\n"
   ]
  },
  {
   "cell_type": "markdown",
   "metadata": {},
   "source": [
    "20. Write a Python program to concatenate two 2-dimensional arrays"
   ]
  },
  {
   "cell_type": "code",
   "execution_count": 23,
   "metadata": {},
   "outputs": [
    {
     "name": "stdout",
     "output_type": "stream",
     "text": [
      "[[ 0  1  3  0  2  4]\n",
      " [ 5  7  9  6  8 10]]\n"
     ]
    }
   ],
   "source": [
    "arr1 = np.array([[0,1,3],[5,7,9]])\n",
    "arr2 = np.array([[0, 2, 4],[6, 8, 10]])\n",
    "new_arr = np.concatenate((arr1,arr2),axis=1)\n",
    "print(new_arr)"
   ]
  },
  {
   "cell_type": "markdown",
   "metadata": {},
   "source": [
    "21. Write a Python program to make an array immutable (read-only).\n"
   ]
  },
  {
   "cell_type": "markdown",
   "metadata": {},
   "source": [
    "Expected Output:\n",
    "Test the array is read-only or not:\n",
    "Try to change the value of the first element:\n",
    "Traceback (most recent call last):\n",
    "File \"19236bd0-0bd9-11e7-a232-c706d0968eb6.py\", line 6, in\n",
    "x[0] = 1\n",
    "ValueError: assignment destination is read-only"
   ]
  },
  {
   "cell_type": "code",
   "execution_count": 24,
   "metadata": {},
   "outputs": [
    {
     "name": "stdout",
     "output_type": "stream",
     "text": [
      "[[1 2 3]\n",
      " [4 5 6]]\n",
      "Test the array is read only or not:\n",
      "assignment destination is read-only\n"
     ]
    }
   ],
   "source": [
    "arr = np.array([[1,2,3],[4,5,6]])\n",
    "print(arr)\n",
    "arr.setflags(write=False)\n",
    "print('Test the array is read only or not:')\n",
    "try:\n",
    "    arr[1,2] = 9\n",
    "except ValueError as e:\n",
    "    print(e)"
   ]
  },
  {
   "cell_type": "markdown",
   "metadata": {},
   "source": [
    "22. Write a Python program to create an array of (3, 4) shape, multiply every element\n",
    "value by 3 and display the new array.\n"
   ]
  },
  {
   "cell_type": "code",
   "execution_count": 25,
   "metadata": {},
   "outputs": [
    {
     "name": "stdout",
     "output_type": "stream",
     "text": [
      "[[ 0  1  2  3]\n",
      " [ 4  5  6  7]\n",
      " [ 8  9 10 11]]\n",
      "[[ 0  3  6  9]\n",
      " [12 15 18 21]\n",
      " [24 27 30 33]]\n"
     ]
    }
   ],
   "source": [
    "arr = np.arange(12).reshape(3,4)\n",
    "print(arr)\n",
    "arr = arr[:]*3\n",
    "print(arr)"
   ]
  },
  {
   "cell_type": "markdown",
   "metadata": {},
   "source": [
    "23. Write a Python program to convert a NumPy array into Python list structure.\n",
    "Expected Output:\n",
    "Original array elements:\n",
    "[[0 1]\n",
    "[2 3]\n",
    "[4 5]]\n",
    "Array to list:\n",
    "[[0, 1], [2, 3], [4, 5]]"
   ]
  },
  {
   "cell_type": "code",
   "execution_count": 26,
   "metadata": {},
   "outputs": [
    {
     "name": "stdout",
     "output_type": "stream",
     "text": [
      "orginal elements\n",
      " [[0 1]\n",
      " [2 3]\n",
      " [4 5]]\n",
      "new array\n",
      " [[0, 1], [2, 3], [4, 5]]\n"
     ]
    }
   ],
   "source": [
    "arr = np.arange(0,6).reshape(3,2)\n",
    "print('orginal elements\\n',arr)\n",
    "lst = arr.tolist()\n",
    "print('new array\\n',lst)"
   ]
  },
  {
   "cell_type": "markdown",
   "metadata": {},
   "source": [
    "24. Write a Python program to convert a NumPy array into Python list structure.\n"
   ]
  },
  {
   "cell_type": "code",
   "execution_count": 27,
   "metadata": {},
   "outputs": [
    {
     "name": "stdout",
     "output_type": "stream",
     "text": [
      "original array\n",
      " [0.26153123, 0.52760141, 0.5718299, 0.5927067, 0.7831874, 0.69746349, 0.35399976, 0.99469633, 0.0694458, 0.54711478]\n",
      "array values with precision 3\n",
      " [0.262 0.528 0.572 0.593 0.783 0.697 0.354 0.995 0.069 0.547]\n"
     ]
    }
   ],
   "source": [
    "arr = ([ 0.26153123 ,0.52760141 ,0.5718299, 0.5927067, 0.7831874 ,0.69746349,0.35399976 ,0.99469633, 0.0694458 ,0.54711478])\n",
    "print('original array\\n',arr)\n",
    "print('array values with precision 3\\n',np.round(arr,decimals=3))"
   ]
  },
  {
   "cell_type": "markdown",
   "metadata": {},
   "source": [
    "25. Write a Python program to suppresses the use of scientific notation for small\n",
    "numbers in numpy array"
   ]
  },
  {
   "cell_type": "code",
   "execution_count": 28,
   "metadata": {},
   "outputs": [
    {
     "name": "stdout",
     "output_type": "stream",
     "text": [
      "original array\n",
      " [1.60e-10 1.60e+00 1.20e+03 2.35e-01]\n",
      "array values with precision 3\n",
      " [   0.       1.6   1200.       0.235]\n"
     ]
    }
   ],
   "source": [
    "arr = np.array([ 1.60000000e-10 ,1.60000000e+00 ,1.20000000e+03 ,2.35000000e-01])\n",
    "print('original array\\n',np.array2string(arr, precision=8, suppress_small=False))\n",
    "\n",
    "np.set_printoptions(suppress=True, precision=3)\n",
    "print('array values with precision 3\\n',arr)"
   ]
  },
  {
   "cell_type": "markdown",
   "metadata": {},
   "source": [
    "26. Write a Python program to how to add an extra column to an numpy array.\n"
   ]
  },
  {
   "cell_type": "code",
   "execution_count": 29,
   "metadata": {},
   "outputs": [
    {
     "name": "stdout",
     "output_type": "stream",
     "text": [
      "[[10 20 30]\n",
      " [40 50 60]]\n",
      "[[ 10  20  30 100]\n",
      " [ 40  50  60 200]]\n"
     ]
    }
   ],
   "source": [
    "arr = np.array([[10,20,30],[40,50,60]])\n",
    "print(arr)\n",
    "new = np.array([[100],[200]])\n",
    "arr = np.hstack((arr,new))\n",
    "print(arr)"
   ]
  },
  {
   "cell_type": "markdown",
   "metadata": {},
   "source": [
    "27. Write a Python program to remove specific elements in a numpy array"
   ]
  },
  {
   "cell_type": "code",
   "execution_count": 30,
   "metadata": {},
   "outputs": [
    {
     "name": "stdout",
     "output_type": "stream",
     "text": [
      "Orignial array:  [ 10  20  30  40  50  60  70  80  90 100]\n",
      "Array after deleting first,fourth and fifth element: [ 20  30  60  70  80  90 100]\n"
     ]
    }
   ],
   "source": [
    "arr = np.arange(10,110,10)\n",
    "print('Orignial array: ',arr)\n",
    "indices = [0,3,4]\n",
    "arr = np.delete(arr,indices)\n",
    "print('Array after deleting first,fourth and fifth element:',arr)\n",
    "\n"
   ]
  }
 ],
 "metadata": {
  "kernelspec": {
   "display_name": "Python 3",
   "language": "python",
   "name": "python3"
  },
  "language_info": {
   "codemirror_mode": {
    "name": "ipython",
    "version": 3
   },
   "file_extension": ".py",
   "mimetype": "text/x-python",
   "name": "python",
   "nbconvert_exporter": "python",
   "pygments_lexer": "ipython3",
   "version": "3.13.0"
  }
 },
 "nbformat": 4,
 "nbformat_minor": 2
}
